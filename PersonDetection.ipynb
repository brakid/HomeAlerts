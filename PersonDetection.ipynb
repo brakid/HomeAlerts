{
 "cells": [
  {
   "cell_type": "markdown",
   "id": "aeaf4aea",
   "metadata": {},
   "source": [
    "https://forums.developer.nvidia.com/t/pytorch-for-jetson/72048"
   ]
  },
  {
   "cell_type": "code",
   "execution_count": null,
   "id": "bd2ca0bb",
   "metadata": {},
   "outputs": [],
   "source": [
    "from kafka import KafkaConsumer\n",
    "import json\n",
    "import numpy as np\n",
    "import cv2\n",
    "import matplotlib.pyplot as plt\n",
    "import base64\n",
    "import torch\n",
    "from telegram import Bot\n",
    "import time\n",
    "\n",
    "KAFKA_HOST = #\n",
    "TOKEN = #\n",
    "CHAT_ID = #\n",
    "ALARM_TIME_DIFFERENCE = 300 # 5 min = 300 sec\n",
    "MAX_MESSAGE_AGE = 30\n",
    "\n",
    "%matplotlib inline\n",
    "\n",
    "torch.cuda.is_available()"
   ]
  },
  {
   "cell_type": "code",
   "execution_count": null,
   "id": "9d0a6366",
   "metadata": {},
   "outputs": [],
   "source": [
    "webcam_consumer = KafkaConsumer(\n",
    "    bootstrap_servers=[KAFKA_HOST], \n",
    "    value_deserializer=lambda x: json.loads(x.decode('utf-8')))\n",
    "\n",
    "webcam_consumer.subscribe(['webcam', 'webcam2', 'host_discovered'])"
   ]
  },
  {
   "cell_type": "code",
   "execution_count": null,
   "id": "cbe6c912",
   "metadata": {},
   "outputs": [],
   "source": [
    "def decode_image(image):\n",
    "    image = image.encode('utf-8')\n",
    "    image = base64.b64decode(image)\n",
    "    image = np.frombuffer(image, dtype=np.uint8)\n",
    "    image = cv2.imdecode(image, cv2.IMREAD_COLOR)\n",
    "    \n",
    "    return image"
   ]
  },
  {
   "cell_type": "code",
   "execution_count": null,
   "id": "4227e010",
   "metadata": {},
   "outputs": [],
   "source": [
    "model = torch.hub.load('ultralytics/yolov5', 'yolov5n', pretrained=True)\n",
    "\n",
    "def detect(image):\n",
    "    with torch.no_grad():\n",
    "        s = time.time()\n",
    "        results = model([image])\n",
    "        # print(time.time() - s, results)\n",
    "        return results\n",
    "    \n",
    "def annotate(image):\n",
    "    results = detect(image)\n",
    "    # get persons\n",
    "    persons = [ i for i in results.crop(save=False) if i['cls'] == 0 and i['conf'] > 0.7 ]\n",
    "    if len(persons) == 0:\n",
    "        #print('No person detected')\n",
    "        return False, image\n",
    "    else:\n",
    "        for person in persons:\n",
    "            x1 = int(person['box'][0])\n",
    "            y1 = int(person['box'][1])\n",
    "            x2 = int(person['box'][2])\n",
    "            y2 = int(person['box'][3])\n",
    "            image = cv2.rectangle(image, (x1, y1), (x2, y2), (0, 0, 255), 2)\n",
    "            \n",
    "        return True, image"
   ]
  },
  {
   "cell_type": "code",
   "execution_count": null,
   "id": "cb650474",
   "metadata": {},
   "outputs": [],
   "source": [
    "telegram_bot = Bot(TOKEN)\n",
    "\n",
    "async def send_alert(image):\n",
    "    await telegram_bot.send_message(CHAT_ID, '<b>Person detected</b>', parse_mode='HTML')\n",
    "    _, image = cv2.imencode('.jpeg', image)\n",
    "    await telegram_bot.send_photo(CHAT_ID, image.tobytes())"
   ]
  },
  {
   "cell_type": "code",
   "execution_count": null,
   "id": "63ddc5f9",
   "metadata": {},
   "outputs": [],
   "source": [
    "%matplotlib inline\n",
    "\n",
    "is_at_home = False\n",
    "last_alarm_timestamp = -1\n",
    "is_alarm_active = False\n",
    "\n",
    "for message in webcam_consumer:\n",
    "    print(message.topic)\n",
    "    current_timestamp = time.time()\n",
    "    \n",
    "    if current_timestamp - (message.timestamp // 1000) > MAX_MESSAGE_AGE: # ignore images older than 30 sec\n",
    "        continue\n",
    "    \n",
    "    if message.topic == 'host_discovered':\n",
    "        is_at_home = False#message.value['value']\n",
    "    else:\n",
    "        image = decode_image(message.value)\n",
    "        if not image is None:\n",
    "            detection, image = annotate(image)\n",
    "            print('Is alarm active?', is_alarm_active, 'Is person detected?', detection, 'Is Hagen at home?', is_at_home, 'How long since last alarm?', current_timestamp - last_alarm_timestamp)\n",
    "            \n",
    "            if not detection:\n",
    "                is_alarm_active = False\n",
    "            \n",
    "            if (not is_alarm_active) and detection and (not is_at_home) and (current_timestamp - last_alarm_timestamp > ALARM_TIME_DIFFERENCE):\n",
    "                await send_alert(image)\n",
    "                #plt.imshow(image)\n",
    "                #plt.show()\n",
    "                print('Alarm')\n",
    "                last_alarm_timestamp = current_timestamp\n",
    "                is_alarm_active = True"
   ]
  }
 ],
 "metadata": {
  "kernelspec": {
   "display_name": "Python 3",
   "language": "python",
   "name": "python3"
  },
  "language_info": {
   "codemirror_mode": {
    "name": "ipython",
    "version": 3
   },
   "file_extension": ".py",
   "mimetype": "text/x-python",
   "name": "python",
   "nbconvert_exporter": "python",
   "pygments_lexer": "ipython3",
   "version": "3.11.2"
  }
 },
 "nbformat": 4,
 "nbformat_minor": 5
}
