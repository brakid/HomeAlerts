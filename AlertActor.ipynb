{
 "cells": [
  {
   "cell_type": "code",
   "execution_count": null,
   "id": "e42187bb",
   "metadata": {},
   "outputs": [],
   "source": [
    "!python3.9 -m pip install python-telegram-bot"
   ]
  },
  {
   "cell_type": "code",
   "execution_count": null,
   "id": "b6940e80",
   "metadata": {},
   "outputs": [],
   "source": [
    "TOKEN = #TELEGRAM BOT TOKEN'\n",
    "CHAT_ID = #TELEGRAM CHAT ID\n",
    "KAFKA_HOST = #URL"
   ]
  },
  {
   "cell_type": "code",
   "execution_count": null,
   "id": "95013e00",
   "metadata": {},
   "outputs": [],
   "source": [
    "from telegram import Bot\n",
    "import time\n",
    "from kafka import KafkaConsumer\n",
    "import json"
   ]
  },
  {
   "cell_type": "code",
   "execution_count": null,
   "id": "878aaab4",
   "metadata": {},
   "outputs": [],
   "source": [
    "alert_consumer = KafkaConsumer(\n",
    "    bootstrap_servers=[KAFKA_HOST], \n",
    "    value_deserializer=lambda x: json.loads(x.decode('utf-8')))\n",
    "    # auto_offset_reset='earliest')\n",
    "alert_consumer.subscribe(['alert'])"
   ]
  },
  {
   "cell_type": "code",
   "execution_count": null,
   "id": "e1326ea9",
   "metadata": {},
   "outputs": [],
   "source": [
    "telegram_bot = Bot(TOKEN)\n",
    "\n",
    "telegram_bot"
   ]
  },
  {
   "cell_type": "code",
   "execution_count": null,
   "id": "79c58938",
   "metadata": {},
   "outputs": [],
   "source": [
    "def handle_alert_event(alert_event):\n",
    "    return f'''<b>Alert type: { alert_event['alarm_type'] }</b>\n",
    "Detail: <pre>{ json.dumps(alert_event) }</pre>'''"
   ]
  },
  {
   "cell_type": "code",
   "execution_count": null,
   "id": "5540f308",
   "metadata": {},
   "outputs": [],
   "source": [
    "for alert_event in alert_consumer:\n",
    "    alert = alert_event.value\n",
    "    print(alert)\n",
    "    \n",
    "    alert_message = handle_alert_event(alert)\n",
    "    \n",
    "    telegram_bot.send_message(CHAT_ID, alert_message, parse_mode='HTML')\n",
    "    print('Alert sent')"
   ]
  }
 ],
 "metadata": {
  "kernelspec": {
   "display_name": "Python 3",
   "language": "python",
   "name": "python3"
  },
  "language_info": {
   "codemirror_mode": {
    "name": "ipython",
    "version": 3
   },
   "file_extension": ".py",
   "mimetype": "text/x-python",
   "name": "python",
   "nbconvert_exporter": "python",
   "pygments_lexer": "ipython3",
   "version": "3.9.15"
  }
 },
 "nbformat": 4,
 "nbformat_minor": 5
}
