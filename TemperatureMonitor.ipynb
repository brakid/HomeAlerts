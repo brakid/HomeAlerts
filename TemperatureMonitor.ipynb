{
 "cells": [
  {
   "cell_type": "code",
   "execution_count": null,
   "id": "a6e0af8a",
   "metadata": {},
   "outputs": [],
   "source": [
    "!python3.9 -m pip install kafka-python"
   ]
  },
  {
   "cell_type": "code",
   "execution_count": null,
   "id": "3f6677f5",
   "metadata": {},
   "outputs": [],
   "source": [
    "from kafka import KafkaProducer, KafkaConsumer\n",
    "import json\n",
    "from datetime import datetime"
   ]
  },
  {
   "cell_type": "code",
   "execution_count": null,
   "id": "9615d9ba",
   "metadata": {},
   "outputs": [],
   "source": [
    "KAFKA_HOST = #URL\n",
    "LOW_TEMPERATURE_THRESHOLD = 15.0\n",
    "HIGH_TEMPERTURE_THRESHOLD = 25.0\n",
    "ALARM_TIME_DIFFERENCE = 3600 # 1h = 60 min = 3600 sec"
   ]
  },
  {
   "cell_type": "code",
   "execution_count": null,
   "id": "719ef44e",
   "metadata": {},
   "outputs": [],
   "source": [
    "alert_producer = KafkaProducer(\n",
    "    bootstrap_servers=[KAFKA_HOST], \n",
    "    value_serializer=lambda x: json.dumps(x).encode('utf-8'))\n",
    "\n",
    "temperature_consumer = KafkaConsumer(\n",
    "    bootstrap_servers=[KAFKA_HOST], \n",
    "    value_deserializer=lambda x: json.loads(x.decode('utf-8')))\n",
    "temperature_consumer.subscribe(['temperature'])"
   ]
  },
  {
   "cell_type": "code",
   "execution_count": null,
   "id": "8cd0e306",
   "metadata": {},
   "outputs": [],
   "source": [
    "last_alarm_timestamp = -1\n",
    "last_seen_offset = -1\n",
    "\n",
    "def create_temperature_alarm_event(temperature_value, alarm_type):\n",
    "    return {\n",
    "        'temperature': temperature_value,\n",
    "        'unit': 'Celsius',\n",
    "        'alarm_type': alarm_type\n",
    "    }\n",
    "\n",
    "def create_temperature_too_low_alarm_event(temperature_value):\n",
    "    return create_temperature_alarm_event(temperature_value, 'TEMPERATURE_TOO_LOW')\n",
    "\n",
    "\n",
    "def create_temperature_too_high_alarm_event(temperature_value):\n",
    "    return create_temperature_alarm_event(temperature_value, 'TEMPERATURE_TOO_HIGH')\n",
    "\n",
    "def evaluate_event(temperature_event, current_timestamp):\n",
    "    global last_alarm_timestamp, last_seen_offset\n",
    "    \n",
    "    temperature = temperature_event.value['value']\n",
    "    \n",
    "    if current_timestamp < last_alarm_timestamp + ALARM_TIME_DIFFERENCE:\n",
    "        return False, None\n",
    "    \n",
    "    if temperature_event.offset <= last_seen_offset:\n",
    "        return False, None\n",
    "    \n",
    "    if temperature < LOW_TEMPERATURE_THRESHOLD:\n",
    "        return True, create_temperature_too_low_alarm_event(temperature)\n",
    "    \n",
    "    if temperature > HIGH_TEMPERATURE_THRESHOLD:\n",
    "        return True, create_temperature_too_high_alarm_event(temperature)\n",
    "    \n",
    "    return False, None\n",
    "\n",
    "def handle_event(temperature_event):\n",
    "    global last_alarm_timestamp, last_seen_offset, alert_producer\n",
    "    \n",
    "    timestamp = datetime.utcnow().timestamp()\n",
    "    \n",
    "    alarm, alarm_event = evaluate_event(temperature_event, timestamp)\n",
    "    \n",
    "    last_seen_offset = temperature_event.offset\n",
    "    \n",
    "    if alarm:\n",
    "        last_alarm_timestamp = timestamp\n",
    "        print('Alert', alarm_event)\n",
    "        alert_producer.send('alert', alarm_event)"
   ]
  },
  {
   "cell_type": "code",
   "execution_count": null,
   "id": "09e7233f",
   "metadata": {},
   "outputs": [],
   "source": [
    "for temperature_event in temperature_consumer:\n",
    "    print(temperature_event)\n",
    "    handle_event(temperature_event)"
   ]
  }
 ],
 "metadata": {
  "kernelspec": {
   "display_name": "Python 3",
   "language": "python",
   "name": "python3"
  },
  "language_info": {
   "codemirror_mode": {
    "name": "ipython",
    "version": 3
   },
   "file_extension": ".py",
   "mimetype": "text/x-python",
   "name": "python",
   "nbconvert_exporter": "python",
   "pygments_lexer": "ipython3",
   "version": "3.9.15"
  }
 },
 "nbformat": 4,
 "nbformat_minor": 5
}
