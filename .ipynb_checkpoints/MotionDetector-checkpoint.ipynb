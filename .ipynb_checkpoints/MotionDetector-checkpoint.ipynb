{
 "cells": [
  {
   "cell_type": "code",
   "execution_count": null,
   "metadata": {},
   "outputs": [],
   "source": [
    "from kafka import KafkaConsumer, KafkaProducer\n",
    "import json\n",
    "import cv2\n",
    "import base64\n",
    "import numpy as np\n",
    "import matplotlib.pyplot as plt\n",
    "from datetime import datetime"
   ]
  },
  {
   "cell_type": "code",
   "execution_count": null,
   "metadata": {},
   "outputs": [],
   "source": [
    "KAFKA_HOST = 'hagenpc.fritz.box:29092'\n",
    "KERNEL = np.ones((7, 7), np.uint8)\n",
    "MOTION_THRESHOLD = 0.1\n",
    "ALARM_TIME_DIFFERENCE = 3600 # 1h = 60 min = 3600 sec"
   ]
  },
  {
   "cell_type": "code",
   "execution_count": null,
   "metadata": {},
   "outputs": [],
   "source": [
    "webcam_consumer = KafkaConsumer(\n",
    "    bootstrap_servers=[KAFKA_HOST], \n",
    "    value_deserializer=lambda x: json.loads(x.decode('utf-8')))\n",
    "webcam_consumer.subscribe(['webcam2'])\n",
    "\n",
    "alert_producer = KafkaProducer(\n",
    "    bootstrap_servers=[KAFKA_HOST], \n",
    "    value_serializer=lambda x: json.dumps(x).encode('utf-8'))"
   ]
  },
  {
   "cell_type": "code",
   "execution_count": null,
   "metadata": {},
   "outputs": [],
   "source": [
    "for message in webcam_consumer:\n",
    "    print(message.value)"
   ]
  },
  {
   "cell_type": "code",
   "execution_count": null,
   "metadata": {},
   "outputs": [],
   "source": [
    "def decode_image(image):\n",
    "    image = image.encode('utf-8')\n",
    "    image = base64.b64decode(image)\n",
    "    image = np.frombuffer(image, dtype=np.uint8)\n",
    "    image = cv2.imdecode(image, cv2.IMREAD_COLOR)\n",
    "    image = cv2.cvtColor(image, cv2.COLOR_BGR2RGB)\n",
    "    return image"
   ]
  },
  {
   "cell_type": "code",
   "execution_count": null,
   "metadata": {},
   "outputs": [],
   "source": [
    "def detect_motion(img1, img2):\n",
    "    diff = cv2.absdiff(img1, img2)\n",
    "    eroded_diff = cv2.erode(diff, KERNEL, cv2.BORDER_REFLECT)\n",
    "    motion = np.mean(eroded_diff) > MOTION_THRESHOLD\n",
    "\n",
    "    return motion"
   ]
  },
  {
   "cell_type": "code",
   "execution_count": null,
   "metadata": {},
   "outputs": [],
   "source": [
    "def create_motion_alarm_event():\n",
    "    return {\n",
    "        'alarm_type': 'MOTION_DETECTED'\n",
    "    }"
   ]
  },
  {
   "cell_type": "code",
   "execution_count": null,
   "metadata": {},
   "outputs": [],
   "source": [
    "last_alarm_timestamp = -1\n",
    "last_image = None\n",
    "\n",
    "for message in webcam_consumer:\n",
    "    image = decode_image(message.value)\n",
    "    if (not last_image is None) and (not image is None):\n",
    "        motion_detected = detect_motion(last_image, image)\n",
    "        timestamp = datetime.utcnow().timestamp()\n",
    "        print(motion_detected, timestamp, last_alarm_timestamp + ALARM_TIME_DIFFERENCE)\n",
    "        if motion_detected and timestamp >= last_alarm_timestamp + ALARM_TIME_DIFFERENCE:\n",
    "            print('Motion detected!')\n",
    "            alert_producer.send('alert', create_motion_alarm_event())\n",
    "            last_alarm_timestamp = timestamp\n",
    "    last_image = image"
   ]
  }
 ],
 "metadata": {
  "kernelspec": {
   "display_name": "Python 3",
   "language": "python",
   "name": "python3"
  },
  "language_info": {
   "codemirror_mode": {
    "name": "ipython",
    "version": 3
   },
   "file_extension": ".py",
   "mimetype": "text/x-python",
   "name": "python",
   "nbconvert_exporter": "python",
   "pygments_lexer": "ipython3",
   "version": "3.11.2"
  }
 },
 "nbformat": 4,
 "nbformat_minor": 4
}
