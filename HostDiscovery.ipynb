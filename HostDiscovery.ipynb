{
 "cells": [
  {
   "cell_type": "code",
   "execution_count": null,
   "metadata": {},
   "outputs": [],
   "source": [
    "import os\n",
    "from kafka import KafkaProducer\n",
    "import json\n",
    "import schedule\n",
    "import time"
   ]
  },
  {
   "cell_type": "code",
   "execution_count": null,
   "metadata": {},
   "outputs": [],
   "source": [
    "KAFKA_HOST = # URL\n",
    "TARGET_HOST = # HOSTNAME"
   ]
  },
  {
   "cell_type": "code",
   "execution_count": null,
   "metadata": {},
   "outputs": [],
   "source": [
    "def is_target_available(target):\n",
    "    response = os.system('ping -c 1 ' + target)\n",
    "    return response == 0"
   ]
  },
  {
   "cell_type": "code",
   "execution_count": null,
   "metadata": {},
   "outputs": [],
   "source": [
    "discovery_producer = KafkaProducer(\n",
    "    bootstrap_servers=[KAFKA_HOST], \n",
    "    value_serializer=lambda x: json.dumps(x).encode('utf-8'))"
   ]
  },
  {
   "cell_type": "code",
   "execution_count": null,
   "metadata": {},
   "outputs": [],
   "source": [
    "last_reported_state = False\n",
    "\n",
    "def handle_discovery():\n",
    "    global last_reported_state\n",
    "    state = is_target_available(TARGET_HOST)\n",
    "    if last_reported_state != state:\n",
    "        print('State changed:', state, last_reported_state)\n",
    "        discovery_producer.send('host_discovery', { 'type': 'HOST_DISCOVERY', 'state': state, 'host': TARGET_HOST })\n",
    "        last_reported_state = state"
   ]
  },
  {
   "cell_type": "code",
   "execution_count": null,
   "metadata": {},
   "outputs": [],
   "source": [
    "job = schedule.every(15).seconds.do(handle_discovery)\n",
    "while True:\n",
    "    schedule.run_pending()\n",
    "    time.sleep(1)\n",
    "schedule.cancel_job(job)"
   ]
  }
 ],
 "metadata": {
  "kernelspec": {
   "display_name": "Python 3",
   "language": "python",
   "name": "python3"
  },
  "language_info": {
   "codemirror_mode": {
    "name": "ipython",
    "version": 3
   },
   "file_extension": ".py",
   "mimetype": "text/x-python",
   "name": "python",
   "nbconvert_exporter": "python",
   "pygments_lexer": "ipython3",
   "version": "3.8.10"
  }
 },
 "nbformat": 4,
 "nbformat_minor": 4
}
